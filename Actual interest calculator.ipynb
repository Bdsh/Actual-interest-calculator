{
 "cells": [
  {
   "cell_type": "code",
   "execution_count": 87,
   "metadata": {},
   "outputs": [],
   "source": [
    "amount = 10000000"
   ]
  },
  {
   "cell_type": "code",
   "execution_count": 88,
   "metadata": {},
   "outputs": [],
   "source": [
    "ror = 10"
   ]
  },
  {
   "cell_type": "code",
   "execution_count": 89,
   "metadata": {},
   "outputs": [],
   "source": [
    "taxrate = 30"
   ]
  },
  {
   "cell_type": "code",
   "execution_count": 90,
   "metadata": {},
   "outputs": [],
   "source": [
    "avg_inflation = 4"
   ]
  },
  {
   "cell_type": "code",
   "execution_count": 91,
   "metadata": {},
   "outputs": [],
   "source": [
    "def calculator():\n",
    "    \n",
    "    global amount\n",
    "    global ror\n",
    "    global taxrate\n",
    "    global avg_inflation\n",
    "\n",
    "    # Calculates interest or gain\n",
    "    interest = (amount * ror)/100 \n",
    "    \n",
    "    #Deducts tax on interest or gain\n",
    "    after_tax = interest - (interest * taxrate)/100\n",
    "    \n",
    "    #Sums up interest/gain after tax with amount\n",
    "    sum_up = after_tax + amount\n",
    "    \n",
    "    #Deducts inflation on that amount\n",
    "    after_inflation = sum_up - (sum_up * avg_inflation)/100\n",
    "    \n",
    "    print(\"After one year of investment you will get \" + str(after_inflation) + \" .\")\n"
   ]
  },
  {
   "cell_type": "code",
   "execution_count": 92,
   "metadata": {},
   "outputs": [
    {
     "name": "stdout",
     "output_type": "stream",
     "text": [
      "After one year of investment you will get 10272000.0 .\n"
     ]
    }
   ],
   "source": [
    "calculator()\n"
   ]
  },
  {
   "cell_type": "code",
   "execution_count": null,
   "metadata": {},
   "outputs": [],
   "source": []
  }
 ],
 "metadata": {
  "kernelspec": {
   "display_name": "Python 3",
   "language": "python",
   "name": "python3"
  },
  "language_info": {
   "codemirror_mode": {
    "name": "ipython",
    "version": 3
   },
   "file_extension": ".py",
   "mimetype": "text/x-python",
   "name": "python",
   "nbconvert_exporter": "python",
   "pygments_lexer": "ipython3",
   "version": "3.8.3"
  }
 },
 "nbformat": 4,
 "nbformat_minor": 4
}
